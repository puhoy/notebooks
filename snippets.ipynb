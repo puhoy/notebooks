{
 "cells": [
  {
   "cell_type": "code",
   "execution_count": 1,
   "metadata": {
    "collapsed": true
   },
   "outputs": [
    {
     "name": "stdout",
     "output_type": "stream",
     "text": [
      "test\n"
     ]
    }
   ],
   "source": [
    "print('test')"
   ]
  },
  {
   "cell_type": "code",
   "execution_count": 4,
   "metadata": {},
   "outputs": [
    {
     "name": "stdout",
     "output_type": "stream",
     "text": [
      "\"color\": \"red\"\n\"db\": \"2.2.2.2\"\n\"shape\": \"square\"\n\n"
     ]
    }
   ],
   "source": [
    "## combine dicts\n",
    "\n",
    "import os\n",
    "import yaml\n",
    "\n",
    "default = dict(db='1.1.1.1', color='red')\n",
    "develop = dict(db='2.2.2.2', shape='square')\n",
    "conf = dict(default=default, develop=develop)\n",
    "\n",
    "mode = os.environ.get('MODE') or 'develop'\n",
    "\n",
    "default_conf = conf['default']\n",
    "specific_conf = conf[mode]\n",
    "\n",
    "config = {**default_conf, **specific_conf}\n",
    "\n",
    "print(yaml.dump(config, default_style='\"'))"
   ]
  },
  {
   "cell_type": "code",
   "execution_count": 2,
   "metadata": {},
   "outputs": [],
   "source": [
    ""
   ]
  },
  {
   "cell_type": "code",
   "execution_count": null,
   "metadata": {},
   "outputs": [],
   "source": [
    ""
   ]
  }
 ],
 "metadata": {
  "kernelspec": {
   "display_name": "Python 2",
   "language": "python",
   "name": "python2"
  },
  "language_info": {
   "codemirror_mode": {
    "name": "ipython",
    "version": 2.0
   },
   "file_extension": ".py",
   "mimetype": "text/x-python",
   "name": "python",
   "nbconvert_exporter": "python",
   "pygments_lexer": "ipython2",
   "version": "2.7.6"
  }
 },
 "nbformat": 4,
 "nbformat_minor": 0
}